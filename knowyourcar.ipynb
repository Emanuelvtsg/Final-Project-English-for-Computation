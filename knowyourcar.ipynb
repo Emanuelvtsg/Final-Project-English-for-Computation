{
  "nbformat": 4,
  "nbformat_minor": 0,
  "metadata": {
    "colab": {
      "name": "Untitled0.ipynb",
      "provenance": []
    },
    "kernelspec": {
      "name": "python3",
      "display_name": "Python 3"
    },
    "language_info": {
      "name": "python"
    },
    "accelerator": "GPU",
    "widgets": {
      "application/vnd.jupyter.widget-state+json": {
        "7ac701de63274eb191d4b8b1589ef022": {
          "model_module": "@jupyter-widgets/controls",
          "model_name": "VBoxModel",
          "model_module_version": "1.5.0",
          "state": {
            "_view_name": "VBoxView",
            "_dom_classes": [],
            "_model_name": "VBoxModel",
            "_view_module": "@jupyter-widgets/controls",
            "_model_module_version": "1.5.0",
            "_view_count": null,
            "_view_module_version": "1.5.0",
            "box_style": "",
            "layout": "IPY_MODEL_dc3d67df55cf488a974a70ada20f5b97",
            "_model_module": "@jupyter-widgets/controls",
            "children": [
              "IPY_MODEL_6c54b51864b9410f854d1562d745c11f",
              "IPY_MODEL_95cc63422ec64380a1b733074c968d07",
              "IPY_MODEL_17f71f68e9054be2a55cd8bae5adf9e8",
              "IPY_MODEL_61d120ff3f5d41029ccca6e9927de375"
            ]
          }
        },
        "dc3d67df55cf488a974a70ada20f5b97": {
          "model_module": "@jupyter-widgets/base",
          "model_name": "LayoutModel",
          "model_module_version": "1.2.0",
          "state": {
            "_view_name": "LayoutView",
            "grid_template_rows": null,
            "right": null,
            "justify_content": null,
            "_view_module": "@jupyter-widgets/base",
            "overflow": null,
            "_model_module_version": "1.2.0",
            "_view_count": null,
            "flex_flow": null,
            "width": null,
            "min_width": null,
            "border": null,
            "align_items": null,
            "bottom": null,
            "_model_module": "@jupyter-widgets/base",
            "top": null,
            "grid_column": null,
            "overflow_y": null,
            "overflow_x": null,
            "grid_auto_flow": null,
            "grid_area": null,
            "grid_template_columns": null,
            "flex": null,
            "_model_name": "LayoutModel",
            "justify_items": null,
            "grid_row": null,
            "max_height": null,
            "align_content": null,
            "visibility": null,
            "align_self": null,
            "height": null,
            "min_height": null,
            "padding": null,
            "grid_auto_rows": null,
            "grid_gap": null,
            "max_width": null,
            "order": null,
            "_view_module_version": "1.2.0",
            "grid_template_areas": null,
            "object_position": null,
            "object_fit": null,
            "grid_auto_columns": null,
            "margin": null,
            "display": null,
            "left": null
          }
        },
        "6c54b51864b9410f854d1562d745c11f": {
          "model_module": "@jupyter-widgets/controls",
          "model_name": "LabelModel",
          "model_module_version": "1.5.0",
          "state": {
            "_view_name": "LabelView",
            "style": "IPY_MODEL_04a94a9406534df5977c0e6f6e76fd93",
            "_dom_classes": [],
            "description": "",
            "_model_name": "LabelModel",
            "placeholder": "​",
            "_view_module": "@jupyter-widgets/controls",
            "_model_module_version": "1.5.0",
            "value": "Select your car!",
            "_view_count": null,
            "_view_module_version": "1.5.0",
            "description_tooltip": null,
            "_model_module": "@jupyter-widgets/controls",
            "layout": "IPY_MODEL_3656dd5c9b294b8bb6da7120ef236e55"
          }
        },
        "95cc63422ec64380a1b733074c968d07": {
          "model_module": "@jupyter-widgets/controls",
          "model_name": "FileUploadModel",
          "model_module_version": "1.5.0",
          "state": {
            "_view_name": "FileUploadView",
            "_counter": 2,
            "style": "IPY_MODEL_fa8fc9ca5d5e422f8bdb965fd0c03b64",
            "_dom_classes": [],
            "description": "Upload",
            "multiple": false,
            "_model_name": "FileUploadModel",
            "data": [
              null
            ],
            "button_style": "",
            "_view_module": "@jupyter-widgets/controls",
            "_model_module_version": "1.5.0",
            "accept": "",
            "_view_count": null,
            "disabled": false,
            "_view_module_version": "1.5.0",
            "error": "",
            "description_tooltip": null,
            "metadata": [
              {
                "name": "suv.jpg",
                "type": "image/jpeg",
                "size": 105857,
                "lastModified": 1638903694861
              }
            ],
            "_model_module": "@jupyter-widgets/controls",
            "layout": "IPY_MODEL_aa79bb219b144b729816613f14018b87",
            "icon": "upload"
          }
        },
        "17f71f68e9054be2a55cd8bae5adf9e8": {
          "model_module": "@jupyter-widgets/output",
          "model_name": "OutputModel",
          "model_module_version": "1.0.0",
          "state": {
            "_view_name": "OutputView",
            "msg_id": "",
            "_dom_classes": [],
            "_model_name": "OutputModel",
            "outputs": [],
            "_view_module": "@jupyter-widgets/output",
            "_model_module_version": "1.0.0",
            "_view_count": null,
            "_view_module_version": "1.0.0",
            "layout": "IPY_MODEL_82a601e4928d42b287cc7dfdceff2590",
            "_model_module": "@jupyter-widgets/output"
          }
        },
        "61d120ff3f5d41029ccca6e9927de375": {
          "model_module": "@jupyter-widgets/controls",
          "model_name": "LabelModel",
          "model_module_version": "1.5.0",
          "state": {
            "_view_name": "LabelView",
            "style": "IPY_MODEL_b1d9df11459c47f4ad858967f2c052a9",
            "_dom_classes": [],
            "description": "",
            "_model_name": "LabelModel",
            "placeholder": "​",
            "_view_module": "@jupyter-widgets/controls",
            "_model_module_version": "1.5.0",
            "value": "",
            "_view_count": null,
            "_view_module_version": "1.5.0",
            "description_tooltip": null,
            "_model_module": "@jupyter-widgets/controls",
            "layout": "IPY_MODEL_d60b0011d1d64db98a1d2a19f8e597be"
          }
        },
        "04a94a9406534df5977c0e6f6e76fd93": {
          "model_module": "@jupyter-widgets/controls",
          "model_name": "DescriptionStyleModel",
          "model_module_version": "1.5.0",
          "state": {
            "_view_name": "StyleView",
            "_model_name": "DescriptionStyleModel",
            "description_width": "",
            "_view_module": "@jupyter-widgets/base",
            "_model_module_version": "1.5.0",
            "_view_count": null,
            "_view_module_version": "1.2.0",
            "_model_module": "@jupyter-widgets/controls"
          }
        },
        "3656dd5c9b294b8bb6da7120ef236e55": {
          "model_module": "@jupyter-widgets/base",
          "model_name": "LayoutModel",
          "model_module_version": "1.2.0",
          "state": {
            "_view_name": "LayoutView",
            "grid_template_rows": null,
            "right": null,
            "justify_content": null,
            "_view_module": "@jupyter-widgets/base",
            "overflow": null,
            "_model_module_version": "1.2.0",
            "_view_count": null,
            "flex_flow": null,
            "width": null,
            "min_width": null,
            "border": null,
            "align_items": null,
            "bottom": null,
            "_model_module": "@jupyter-widgets/base",
            "top": null,
            "grid_column": null,
            "overflow_y": null,
            "overflow_x": null,
            "grid_auto_flow": null,
            "grid_area": null,
            "grid_template_columns": null,
            "flex": null,
            "_model_name": "LayoutModel",
            "justify_items": null,
            "grid_row": null,
            "max_height": null,
            "align_content": null,
            "visibility": null,
            "align_self": null,
            "height": null,
            "min_height": null,
            "padding": null,
            "grid_auto_rows": null,
            "grid_gap": null,
            "max_width": null,
            "order": null,
            "_view_module_version": "1.2.0",
            "grid_template_areas": null,
            "object_position": null,
            "object_fit": null,
            "grid_auto_columns": null,
            "margin": null,
            "display": null,
            "left": null
          }
        },
        "fa8fc9ca5d5e422f8bdb965fd0c03b64": {
          "model_module": "@jupyter-widgets/controls",
          "model_name": "ButtonStyleModel",
          "model_module_version": "1.5.0",
          "state": {
            "_view_name": "StyleView",
            "_model_name": "ButtonStyleModel",
            "_view_module": "@jupyter-widgets/base",
            "_model_module_version": "1.5.0",
            "_view_count": null,
            "button_color": null,
            "font_weight": "",
            "_view_module_version": "1.2.0",
            "_model_module": "@jupyter-widgets/controls"
          }
        },
        "aa79bb219b144b729816613f14018b87": {
          "model_module": "@jupyter-widgets/base",
          "model_name": "LayoutModel",
          "model_module_version": "1.2.0",
          "state": {
            "_view_name": "LayoutView",
            "grid_template_rows": null,
            "right": null,
            "justify_content": null,
            "_view_module": "@jupyter-widgets/base",
            "overflow": null,
            "_model_module_version": "1.2.0",
            "_view_count": null,
            "flex_flow": null,
            "width": null,
            "min_width": null,
            "border": null,
            "align_items": null,
            "bottom": null,
            "_model_module": "@jupyter-widgets/base",
            "top": null,
            "grid_column": null,
            "overflow_y": null,
            "overflow_x": null,
            "grid_auto_flow": null,
            "grid_area": null,
            "grid_template_columns": null,
            "flex": null,
            "_model_name": "LayoutModel",
            "justify_items": null,
            "grid_row": null,
            "max_height": null,
            "align_content": null,
            "visibility": null,
            "align_self": null,
            "height": null,
            "min_height": null,
            "padding": null,
            "grid_auto_rows": null,
            "grid_gap": null,
            "max_width": null,
            "order": null,
            "_view_module_version": "1.2.0",
            "grid_template_areas": null,
            "object_position": null,
            "object_fit": null,
            "grid_auto_columns": null,
            "margin": null,
            "display": null,
            "left": null
          }
        },
        "b1d9df11459c47f4ad858967f2c052a9": {
          "model_module": "@jupyter-widgets/controls",
          "model_name": "DescriptionStyleModel",
          "model_module_version": "1.5.0",
          "state": {
            "_view_name": "StyleView",
            "_model_name": "DescriptionStyleModel",
            "description_width": "",
            "_view_module": "@jupyter-widgets/base",
            "_model_module_version": "1.5.0",
            "_view_count": null,
            "_view_module_version": "1.2.0",
            "_model_module": "@jupyter-widgets/controls"
          }
        },
        "d60b0011d1d64db98a1d2a19f8e597be": {
          "model_module": "@jupyter-widgets/base",
          "model_name": "LayoutModel",
          "model_module_version": "1.2.0",
          "state": {
            "_view_name": "LayoutView",
            "grid_template_rows": null,
            "right": null,
            "justify_content": null,
            "_view_module": "@jupyter-widgets/base",
            "overflow": null,
            "_model_module_version": "1.2.0",
            "_view_count": null,
            "flex_flow": null,
            "width": null,
            "min_width": null,
            "border": null,
            "align_items": null,
            "bottom": null,
            "_model_module": "@jupyter-widgets/base",
            "top": null,
            "grid_column": null,
            "overflow_y": null,
            "overflow_x": null,
            "grid_auto_flow": null,
            "grid_area": null,
            "grid_template_columns": null,
            "flex": null,
            "_model_name": "LayoutModel",
            "justify_items": null,
            "grid_row": null,
            "max_height": null,
            "align_content": null,
            "visibility": null,
            "align_self": null,
            "height": null,
            "min_height": null,
            "padding": null,
            "grid_auto_rows": null,
            "grid_gap": null,
            "max_width": null,
            "order": null,
            "_view_module_version": "1.2.0",
            "grid_template_areas": null,
            "object_position": null,
            "object_fit": null,
            "grid_auto_columns": null,
            "margin": null,
            "display": null,
            "left": null
          }
        },
        "82a601e4928d42b287cc7dfdceff2590": {
          "model_module": "@jupyter-widgets/base",
          "model_name": "LayoutModel",
          "model_module_version": "1.2.0",
          "state": {
            "_view_name": "LayoutView",
            "grid_template_rows": null,
            "right": null,
            "justify_content": null,
            "_view_module": "@jupyter-widgets/base",
            "overflow": null,
            "_model_module_version": "1.2.0",
            "_view_count": null,
            "flex_flow": null,
            "width": null,
            "min_width": null,
            "border": null,
            "align_items": null,
            "bottom": null,
            "_model_module": "@jupyter-widgets/base",
            "top": null,
            "grid_column": null,
            "overflow_y": null,
            "overflow_x": null,
            "grid_auto_flow": null,
            "grid_area": null,
            "grid_template_columns": null,
            "flex": null,
            "_model_name": "LayoutModel",
            "justify_items": null,
            "grid_row": null,
            "max_height": null,
            "align_content": null,
            "visibility": null,
            "align_self": null,
            "height": null,
            "min_height": null,
            "padding": null,
            "grid_auto_rows": null,
            "grid_gap": null,
            "max_width": null,
            "order": null,
            "_view_module_version": "1.2.0",
            "grid_template_areas": null,
            "object_position": null,
            "object_fit": null,
            "grid_auto_columns": null,
            "margin": null,
            "display": null,
            "left": null
          }
        }
      }
    }
  },
  "cells": [
    {
      "cell_type": "code",
      "source": [
        "!pip install -Uqq fastbook\n",
        "import fastbook\n",
        "fastbook.setup_book()"
      ],
      "metadata": {
        "colab": {
          "base_uri": "https://localhost:8080/"
        },
        "id": "CAssiNNRGrL_",
        "outputId": "fbe667d8-5510-463d-97d9-7e4c3ae00c08"
      },
      "execution_count": 3,
      "outputs": [
        {
          "output_type": "stream",
          "name": "stdout",
          "text": [
            "\u001b[K     |████████████████████████████████| 720 kB 4.3 MB/s \n",
            "\u001b[K     |████████████████████████████████| 1.2 MB 40.5 MB/s \n",
            "\u001b[K     |████████████████████████████████| 189 kB 49.0 MB/s \n",
            "\u001b[K     |████████████████████████████████| 46 kB 4.4 MB/s \n",
            "\u001b[K     |████████████████████████████████| 56 kB 4.7 MB/s \n",
            "\u001b[K     |████████████████████████████████| 51 kB 314 kB/s \n",
            "\u001b[?25hMounted at /content/gdrive\n"
          ]
        }
      ]
    },
    {
      "cell_type": "code",
      "source": [
        "from fastbook import *"
      ],
      "metadata": {
        "id": "mGfHl3uVGwQN"
      },
      "execution_count": 4,
      "outputs": []
    },
    {
      "cell_type": "code",
      "execution_count": 7,
      "metadata": {
        "id": "jtw9MF7rDsou"
      },
      "outputs": [],
      "source": [
        "from fastai.vision.all import *\n",
        "from fastai.vision.widgets import *"
      ]
    },
    {
      "cell_type": "markdown",
      "source": [
        " # Know your car!\n",
        " Want to buy a car and don't know if it's either a SUV, a convertible or a sedan? You've come to the right place! Upload a image of the car you want and click \"classify\" to know which type it is. Note: this will **not** handle images of cars potentially different from the overall SUVs, convertibles and sedans, meaning you will not get a good answer at all and will probably buy a car you don't want!\n"
      ],
      "metadata": {
        "id": "VuMI9A1BKDY0"
      }
    },
    {
      "cell_type": "code",
      "source": [
        "path = Path()\n",
        "learn_inf = load_learner(path/'cars-export.pkl', cpu=True)\n",
        "btn_upload = widgets.FileUpload()\n",
        "out_pl = widgets.Output()\n",
        "lbl_pred = widgets.Label()"
      ],
      "metadata": {
        "id": "PgJXCNDULJX8"
      },
      "execution_count": 33,
      "outputs": []
    },
    {
      "cell_type": "code",
      "source": [
        "def on_click(change):\n",
        "  img = PILImage.create(btn_upload.data[-1])\n",
        "  out_pl.clear_output()\n",
        "  with out_pl: display(img.to_thumb(256,256))\n",
        "  pred, pred_idx, probs = learn_inf.predict(img)\n",
        "  if pred == 'SUV':\n",
        "    cool_phrase = \"Man, that car rocks!\"\n",
        "  elif pred == 'convertible':\n",
        "    cool_phrase = \"Such style!\"\n",
        "  elif pred == 'sedan':\n",
        "    cool_phrase = \"Couldn't be better!\"\n",
        "  if probs[pred_idx]>0.6:\n",
        "    lbl_pred.value = f'My velocimeter says with {probs[pred_idx]:.04f} of its speed that your car is a {pred}. {cool_phrase}'\n",
        "  else:\n",
        "    lbl_pred.value = f'My velocimeter is so low at {probs[pred_idx]:.04f} of its speed that it can\\'t even be a car, maybe it\\'s a bicycle or a sandwich.'"
      ],
      "metadata": {
        "id": "rrXJ38KQLWyK"
      },
      "execution_count": 30,
      "outputs": []
    },
    {
      "cell_type": "code",
      "source": [
        "btn_upload.observe(on_click, names=['data'])"
      ],
      "metadata": {
        "id": "Vz0_2-NIO-XT"
      },
      "execution_count": 31,
      "outputs": []
    },
    {
      "cell_type": "code",
      "source": [
        "display(VBox([widgets.Label(\"Select your car!\"), btn_upload, out_pl, lbl_pred]))"
      ],
      "metadata": {
        "colab": {
          "base_uri": "https://localhost:8080/",
          "height": 113,
          "referenced_widgets": [
            "7ac701de63274eb191d4b8b1589ef022",
            "dc3d67df55cf488a974a70ada20f5b97",
            "6c54b51864b9410f854d1562d745c11f",
            "95cc63422ec64380a1b733074c968d07",
            "17f71f68e9054be2a55cd8bae5adf9e8",
            "61d120ff3f5d41029ccca6e9927de375",
            "04a94a9406534df5977c0e6f6e76fd93",
            "3656dd5c9b294b8bb6da7120ef236e55",
            "fa8fc9ca5d5e422f8bdb965fd0c03b64",
            "aa79bb219b144b729816613f14018b87",
            "b1d9df11459c47f4ad858967f2c052a9",
            "d60b0011d1d64db98a1d2a19f8e597be",
            "82a601e4928d42b287cc7dfdceff2590"
          ]
        },
        "id": "SOYneai0PN3D",
        "outputId": "fb7ca31b-9f4b-47d7-89c9-548fe936ee0d"
      },
      "execution_count": 35,
      "outputs": [
        {
          "output_type": "display_data",
          "data": {
            "application/vnd.jupyter.widget-view+json": {
              "model_id": "7ac701de63274eb191d4b8b1589ef022",
              "version_minor": 0,
              "version_major": 2
            },
            "text/plain": [
              "VBox(children=(Label(value='Select your car!'), FileUpload(value={'suv.jpg': {'metadata': {'lastModified': 163…"
            ]
          },
          "metadata": {}
        }
      ]
    },
    {
      "cell_type": "code",
      "source": [
        ""
      ],
      "metadata": {
        "id": "gwKxUR6nPv8Y"
      },
      "execution_count": null,
      "outputs": []
    }
  ]
}